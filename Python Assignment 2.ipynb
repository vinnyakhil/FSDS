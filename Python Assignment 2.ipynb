{
 "cells": [
  {
   "cell_type": "code",
   "execution_count": null,
   "metadata": {},
   "outputs": [],
   "source": [
    "#1.What are the two values of the Boolean data type? How do you write them?\n",
    "'''The two values of the boolean data type are True and False\n",
    "   a = True \n",
    "   b = False\n",
    "   type(a) #bool\n",
    "   type(b) #bool\n",
    "   Internally python represents True as 1 and False as 0\n",
    "   True + True ...> 2\n",
    "   True - Flase ...> 0'''"
   ]
  },
  {
   "cell_type": "code",
   "execution_count": null,
   "metadata": {},
   "outputs": [],
   "source": [
    "#2. What are the three different types of Boolean operators?\n",
    "'''There are three logical operators that are used to compare values. \n",
    "They evaluate expressions down to Boolean values, returning either True or False. \n",
    "These operators are and, or, and not'''"
   ]
  },
  {
   "cell_type": "code",
   "execution_count": null,
   "metadata": {},
   "outputs": [],
   "source": [
    "#3. Make a list of each Boolean operator's truth tables\n",
    "#(i.e. every possible combination of Boolean values for the operator and what it evaluate ).\n",
    "'''and operator:1 and 0...> False\n",
    "                1 and 1...> True\n",
    "                0 and 1...> False\n",
    "                0 and 0...> False\n",
    "   or operator: 1 or 0....> True\n",
    "                1 or 1....> True\n",
    "                0 or 1....> True\n",
    "                0 or 0....> False\n",
    "   not operator: not True...> False\n",
    "                 not False...> True'''         "
   ]
  },
  {
   "cell_type": "code",
   "execution_count": null,
   "metadata": {},
   "outputs": [],
   "source": [
    "#4. What are the values of the following expressions?\n",
    "''''(5 > 4) and (3 == 5).....................>False\n",
    "    not (5 > 4)..............................>False\n",
    "    (5 > 4) or (3 == 5)......................>True\n",
    "    not ((5 > 4) or (3 == 5))................>False\n",
    "    (True and True) and (True == False)......>False\n",
    "    (not False) or (not True)................>True"
   ]
  },
  {
   "cell_type": "code",
   "execution_count": null,
   "metadata": {},
   "outputs": [],
   "source": [
    "#5. What are the six comparison operators?\n",
    "'''Ans: Six comparision operators are >,<,>=,<=,==,!='''"
   ]
  },
  {
   "cell_type": "code",
   "execution_count": 1,
   "metadata": {},
   "outputs": [
    {
     "name": "stdout",
     "output_type": "stream",
     "text": [
      "This is true\n"
     ]
    }
   ],
   "source": [
    "#6. How do you tell the difference between the equal to and assignment operators?\n",
    "#Describe a condition and when you would use one.\n",
    "'''equal to returns true if the value on the left is equal to the value on the right, otherwise it returns false\n",
    "   assignment operator is used for assigning any value to the variable\n",
    "   a = 10 .....>assigning the value to the variable\n",
    "   a == 10.....>checks the condition whether a is equal to 10 or not and returns boolean value'''\n",
    "a = 10\n",
    "if a == 10:\n",
    "    print('This is true')\n",
    "else:\n",
    "    print('This is false')"
   ]
  },
  {
   "cell_type": "code",
   "execution_count": null,
   "metadata": {},
   "outputs": [],
   "source": [
    "#7. Identify the three blocks in this code:\n",
    "#spam = 0\n",
    "#if spam == 10:......>block1\n",
    "#print('eggs')\n",
    "#if spam > 5:........>block2\n",
    "#print('bacon')\n",
    "#else:...............>block3\n",
    "#print('ham')\n",
    "#print('spam')\n",
    "#print('spam')\n",
    "'''Proper indentation is not followed here but as per the question there are three blocks in this program.\n",
    "   There are two if blocks and one else block'''"
   ]
  },
  {
   "cell_type": "code",
   "execution_count": 4,
   "metadata": {},
   "outputs": [
    {
     "name": "stdout",
     "output_type": "stream",
     "text": [
      "enter the value for spam:1\n",
      "Hello\n"
     ]
    }
   ],
   "source": [
    "#8. Write code that prints Hello if 1 is stored in spam, prints Howdy if 2 is stored in spam, and prints Greetings! \n",
    "#if anything else is stored in spam.\n",
    "spam = int(input('enter the value for spam:'))\n",
    "if spam == 1:\n",
    "    print('Hello')\n",
    "elif spam ==2:\n",
    "    print('Howdy')\n",
    "else:\n",
    "    print('Greetings!')"
   ]
  },
  {
   "cell_type": "code",
   "execution_count": null,
   "metadata": {},
   "outputs": [],
   "source": [
    "#9.If your programme is stuck in an endless loop, what keys you’ll press?\n",
    "'''On the command line, press CTRL + C'''"
   ]
  },
  {
   "cell_type": "code",
   "execution_count": null,
   "metadata": {},
   "outputs": [],
   "source": [
    "#10. How can you tell the difference between break and continue?\n",
    "'''we can use the break statement inside the loops to break loop execution based on some condition\n",
    "   we can use the continue statement to skip current iteration snd continue next iteration'''"
   ]
  },
  {
   "cell_type": "code",
   "execution_count": null,
   "metadata": {},
   "outputs": [],
   "source": [
    "#11. In a for loop, what is the difference between range(10), range(0, 10), and range(0, 10, 1)?\n",
    "'''There is no difference between these three functions...All will give the same output..In all the range functions\n",
    "   step size is 1 and start value is 0 and end value is 9 '''"
   ]
  },
  {
   "cell_type": "code",
   "execution_count": 1,
   "metadata": {},
   "outputs": [
    {
     "name": "stdout",
     "output_type": "stream",
     "text": [
      "1 2 3 4 5 6 7 8 9 10 "
     ]
    }
   ],
   "source": [
    "#12. Write a short program that prints the numbers 1 to 10 using a for loop.\n",
    "for i in range(1,11):\n",
    "    print(i,end = ' ')"
   ]
  },
  {
   "cell_type": "code",
   "execution_count": 2,
   "metadata": {},
   "outputs": [
    {
     "name": "stdout",
     "output_type": "stream",
     "text": [
      "1 2 3 4 5 6 7 8 9 10 "
     ]
    }
   ],
   "source": [
    "#Then write an equivalent program that prints the numbers 1 to 10 using a while loop.\n",
    "i = 1\n",
    "while True:\n",
    "    if i == 11:\n",
    "        break\n",
    "    print(i, end = ' ')\n",
    "    i = i +1"
   ]
  },
  {
   "cell_type": "code",
   "execution_count": null,
   "metadata": {},
   "outputs": [],
   "source": [
    "#13. If you had a function named bacon() inside a module named spam, how would you call it after importing spam?\n",
    "import spam\n",
    "spam.bacon()"
   ]
  },
  {
   "cell_type": "code",
   "execution_count": null,
   "metadata": {},
   "outputs": [],
   "source": []
  },
  {
   "cell_type": "code",
   "execution_count": null,
   "metadata": {},
   "outputs": [],
   "source": []
  }
 ],
 "metadata": {
  "kernelspec": {
   "display_name": "Python 3",
   "language": "python",
   "name": "python3"
  },
  "language_info": {
   "codemirror_mode": {
    "name": "ipython",
    "version": 3
   },
   "file_extension": ".py",
   "mimetype": "text/x-python",
   "name": "python",
   "nbconvert_exporter": "python",
   "pygments_lexer": "ipython3",
   "version": "3.7.1"
  }
 },
 "nbformat": 4,
 "nbformat_minor": 2
}
