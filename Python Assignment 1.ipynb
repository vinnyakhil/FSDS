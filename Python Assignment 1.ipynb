{
 "cells": [
  {
   "cell_type": "code",
   "execution_count": null,
   "metadata": {},
   "outputs": [],
   "source": [
    "# 1. In the below elements which of them are values or an expression?\n",
    "# eg:- values can be integer or string and expressions will be mathematical operators.\n",
    "'''   * , - , / , + .........> expressions     \n",
    "   'hello'  , -87.8  , 6 ........> values'''                                       ''' "
   ]
  },
  {
   "cell_type": "code",
   "execution_count": 1,
   "metadata": {},
   "outputs": [],
   "source": [
    "# 2. What is the difference between string and variable?\n",
    "'''string : A string is a sequence of charachters enclosed with in single quotes or double quotes\n",
    "   variable:A variable is any alphabet or group of alphabets which work as temporary storage locations , \n",
    "            a variable is used to represent any value\n",
    "            Variables are references that you create to refer to other values in your program'''"
   ]
  },
  {
   "cell_type": "code",
   "execution_count": 3,
   "metadata": {},
   "outputs": [
    {
     "data": {
      "text/plain": [
       "'Data types represents the type of data present inside a variable\\nint data type: we can use int data type to represent whole number (inegral values)\\n                eg: a = 10 \\n                type(a) #int\\n                we can represent int values in following ways\\n                1. Decimal form (base 10)\\n                2. Binary form (base 2)\\n                3. Octal form\\n                4. Hexa decimal form\\nFloat data type: we can use float data type to represent floating point values(decimal values)\\n                eg: f = 1.231\\n                type(f) #float\\n                we can also represent floating point values by using exponential form\\n                eg: f = 1.2e3\\n                    print(f) #1200\\nbool data type: we can use this data type to represent boolean values\\n                The only allowed values for this data type are True and False\\n                Intenally python represents True as 1 and False as 0\\n                eg: b = True\\n                    type(b) #bool'"
      ]
     },
     "execution_count": 3,
     "metadata": {},
     "output_type": "execute_result"
    }
   ],
   "source": [
    "# 3. Describe three different data types.\n",
    "'''Data types represents the type of data present inside a variable\n",
    "int data type: we can use int data type to represent whole number (inegral values)\n",
    "                eg: a = 10 \n",
    "                type(a) #int\n",
    "                we can represent int values in following ways\n",
    "                1. Decimal form (base 10)\n",
    "                2. Binary form (base 2)\n",
    "                3. Octal form\n",
    "                4. Hexa decimal form\n",
    "Float data type: we can use float data type to represent floating point values(decimal values)\n",
    "                eg: f = 1.231\n",
    "                type(f) #float\n",
    "                we can also represent floating point values by using exponential form\n",
    "                eg: f = 1.2e3\n",
    "                    print(f) #1200\n",
    "bool data type: we can use this data type to represent boolean values\n",
    "                The only allowed values for this data type are True and False\n",
    "                Intenally python represents True as 1 and False as 0\n",
    "                eg:b = True\n",
    "                   type(b) #bool'''"
   ]
  },
  {
   "cell_type": "code",
   "execution_count": null,
   "metadata": {},
   "outputs": [],
   "source": [
    "# 4. What is an expression made up of? What do all expressions do?\n",
    "'''Expressions are representations of value.\n",
    "For example any string is also an expressions since it represents the value of the string as well\n",
    "Python expressions are made up of identifiers, literals, and operators.\n",
    "An expression is an instruction that combines values and operators and always evaluates down to a single value'''"
   ]
  },
  {
   "cell_type": "code",
   "execution_count": null,
   "metadata": {},
   "outputs": [],
   "source": [
    "# 5. This assignment statements, like spam = 10. What is the difference between an expression and a statement?\n",
    "'''Expression Vs Statement\n",
    "    Expression: 1. Expressions always returns a value\n",
    "                2. Functions are also expressions. Even a non returning function will still return\n",
    "                3. Can print the result value\n",
    "                4. Examples Of Python Expressions: “Hello” + “World”, 4 + 5 etc.\n",
    "    statement:  1. A statement never returns a value\n",
    "                2. Cannot print any result\n",
    "                3. Examples Of Python Statements: Assignment statements, conditional branching, loops, classes, import, def,\n",
    "                   try, except, pass, del etc\n",
    "summary:In simpler terms, we can say that anything that evaluates to something is a Python expression, while on the other\n",
    "        hand, anything that does something is a Python statement.'''"
   ]
  },
  {
   "cell_type": "code",
   "execution_count": null,
   "metadata": {},
   "outputs": [],
   "source": [
    "# 6.  After running the following code, what does the variable bacon contain?\n",
    "#bacon = 22\n",
    "#bacon + 1\n",
    "#Ans: 23"
   ]
  },
  {
   "cell_type": "code",
   "execution_count": null,
   "metadata": {},
   "outputs": [],
   "source": [
    "#7. What should the values of the following two terms be?\n",
    "#'spam' + 'spamspam' .....>spamspamspam\n",
    "#'spam' * 3 .......>spamspamspam"
   ]
  },
  {
   "cell_type": "code",
   "execution_count": null,
   "metadata": {},
   "outputs": [],
   "source": [
    "#8. Why is eggs a valid variable name while 100 is invalid?\n",
    "'''variable names should not be a any keyword so eggs is a valid variable name but 100 is invalid because variable name\n",
    "   should start with alphabet or _ but should not start with digit'''"
   ]
  },
  {
   "cell_type": "code",
   "execution_count": null,
   "metadata": {},
   "outputs": [],
   "source": [
    "#9. What three functions can be used to get the integer, floating-point number, or string version of a value?\n",
    "'''int(int value | float value |string value,base = 10)....> creates integer object\n",
    "   float(int value| float value | string value,base = 10)....> creates float object\n",
    "   str(int value | float value | complex number | boolean value).....> creates string object'''"
   ]
  },
  {
   "cell_type": "code",
   "execution_count": 4,
   "metadata": {},
   "outputs": [
    {
     "name": "stdout",
     "output_type": "stream",
     "text": [
      "I have eaten 99 burritos.\n"
     ]
    }
   ],
   "source": [
    "#10 Why does this expression cause an error? How can you fix it?\n",
    "#'I have eaten ' + 99 + ' burritos.'\n",
    "'''Here we are trying to concatenate the strings but in between we are using an int data type which is not allowed for\n",
    "   concatenation operation.so we can fix it by type casting the int value to the string and perform the conacatenation'''\n",
    "print('I have eaten ' + str(99) + ' burritos.')"
   ]
  },
  {
   "cell_type": "code",
   "execution_count": null,
   "metadata": {},
   "outputs": [],
   "source": []
  }
 ],
 "metadata": {
  "kernelspec": {
   "display_name": "Python 3",
   "language": "python",
   "name": "python3"
  },
  "language_info": {
   "codemirror_mode": {
    "name": "ipython",
    "version": 3
   },
   "file_extension": ".py",
   "mimetype": "text/x-python",
   "name": "python",
   "nbconvert_exporter": "python",
   "pygments_lexer": "ipython3",
   "version": "3.7.1"
  }
 },
 "nbformat": 4,
 "nbformat_minor": 2
}
