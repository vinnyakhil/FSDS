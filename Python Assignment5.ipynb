{
 "cells": [
  {
   "cell_type": "code",
   "execution_count": 1,
   "metadata": {},
   "outputs": [
    {
     "data": {
      "text/plain": [
       "dict"
      ]
     },
     "execution_count": 1,
     "metadata": {},
     "output_type": "execute_result"
    }
   ],
   "source": [
    "#1. What does an empty dictionary's code look like?\n",
    "\n",
    "dict = {}\n",
    "type(dict)"
   ]
  },
  {
   "cell_type": "code",
   "execution_count": 5,
   "metadata": {},
   "outputs": [
    {
     "name": "stdout",
     "output_type": "stream",
     "text": [
      "dict_values([42])\n"
     ]
    }
   ],
   "source": [
    "#2. What is the value of a dictionary value with the key 'foo' and the value 42?\n",
    "\n",
    "dict = {'foo':42}.values()\n",
    "print(dict)"
   ]
  },
  {
   "cell_type": "code",
   "execution_count": null,
   "metadata": {},
   "outputs": [],
   "source": [
    "#3. What is the most significant distinction between a dictionary and a list?\n",
    "\n",
    "'''1. The indices of list are integers starting from 0, while the keys of dictionary can be of any data type. \n",
    "   2. The elements are accessed via indices in case of lists, while in dict The elements are accessed via key-values.'''"
   ]
  },
  {
   "cell_type": "code",
   "execution_count": null,
   "metadata": {},
   "outputs": [],
   "source": [
    "#4. What happens if you try to access spam['foo'] if spam is {'bar': 100}?\n",
    "\n",
    "'''foo is not present in spam variable as a key so it raises key error'''"
   ]
  },
  {
   "cell_type": "code",
   "execution_count": null,
   "metadata": {},
   "outputs": [],
   "source": [
    "#5. If a dictionary is stored in spam, what is the difference between the expressions 'cat' in spam and \n",
    "#'cat' in spam.keys()?\n",
    "\n",
    "'''spam = {}\n",
    "   'cat' in spam ....>search for whether a key with name 'cat' present in spam or not and returns boolean value accordingly\n",
    "   'cat' in spam.keys()...>search for whether a key with name 'cat' present in spam or not and returns boolean value''' \n",
    "\n",
    "'''Both returns boolean value only and there is no difference at all'''\n"
   ]
  },
  {
   "cell_type": "code",
   "execution_count": null,
   "metadata": {},
   "outputs": [],
   "source": [
    "#6. If a dictionary is stored in spam, what is the difference between the expressions 'cat' in spam and \n",
    "#'cat' in spam.values()?\n",
    "\n",
    "'''spam = {}\n",
    "   'cat' in spam....>search for whether a key with name 'cat' present in spam or not and returns boolean value accordingly\n",
    "   'cat' in spam.values()...>search for whether a value with name 'cat' is present in spam or not \n",
    "                             and returns boolean value accordingly'''"
   ]
  },
  {
   "cell_type": "code",
   "execution_count": 25,
   "metadata": {},
   "outputs": [
    {
     "name": "stdout",
     "output_type": "stream",
     "text": [
      "{'akhil': 1, 'color': 'black'}\n"
     ]
    }
   ],
   "source": [
    "#7. What is a shortcut for the following code?\n",
    "#if 'color' not in spam:\n",
    "#spam['color'] = 'black'\n",
    "\n",
    "'''we can use dict comprehension which makes the above code in a single line'''\n",
    "\n",
    "spam = {'akhil': 1}\n",
    "if 'color' not in spam.keys():\n",
    "    spam['color'] = 'black'\n",
    "    spam\n",
    "print(spam)"
   ]
  },
  {
   "cell_type": "code",
   "execution_count": 27,
   "metadata": {},
   "outputs": [
    {
     "name": "stdout",
     "output_type": "stream",
     "text": [
      "dict_values([100, 1000])\n"
     ]
    }
   ],
   "source": [
    "#8. How do you \"pretty print\" dictionary values using which module and function?\n",
    "\n",
    "'''we can use values function to get the values of the dictionary'''\n",
    "spam = {'bar': 100, 'akhil':1000}\n",
    "print(spam.values())"
   ]
  },
  {
   "cell_type": "code",
   "execution_count": null,
   "metadata": {},
   "outputs": [],
   "source": []
  }
 ],
 "metadata": {
  "kernelspec": {
   "display_name": "Python 3",
   "language": "python",
   "name": "python3"
  },
  "language_info": {
   "codemirror_mode": {
    "name": "ipython",
    "version": 3
   },
   "file_extension": ".py",
   "mimetype": "text/x-python",
   "name": "python",
   "nbconvert_exporter": "python",
   "pygments_lexer": "ipython3",
   "version": "3.7.1"
  }
 },
 "nbformat": 4,
 "nbformat_minor": 2
}
