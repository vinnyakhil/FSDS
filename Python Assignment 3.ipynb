{
 "cells": [
  {
   "cell_type": "code",
   "execution_count": null,
   "metadata": {},
   "outputs": [],
   "source": [
    "#1. Why are functions advantageous to have in your programs?\n",
    "'''if a group of statements is repeatedly required then it is not recommended to write these statements everytime\n",
    "   seperately.we have to define these statements as a single unit and we can call that unit any number of times based \n",
    "   on our requirement without rewritting.This unit is nothing but function.\n",
    "   The main advantage of functions to have in our program is code reusability'''"
   ]
  },
  {
   "cell_type": "code",
   "execution_count": 1,
   "metadata": {},
   "outputs": [
    {
     "name": "stdout",
     "output_type": "stream",
     "text": [
      "sum 5\n"
     ]
    }
   ],
   "source": [
    "#2. When does the code in a function run: when it's specified or when it's called?\n",
    "'''First we have to define the function and we need to call the function then only code in a function run'''\n",
    "def add(a,b):\n",
    "    print('sum',a+b)\n",
    "add(2,3)"
   ]
  },
  {
   "cell_type": "code",
   "execution_count": null,
   "metadata": {},
   "outputs": [],
   "source": [
    "#3. What statement creates a function?\n",
    "#Ans: def functionName():"
   ]
  },
  {
   "cell_type": "code",
   "execution_count": 7,
   "metadata": {},
   "outputs": [
    {
     "name": "stdout",
     "output_type": "stream",
     "text": [
      "square of 4 is 16\n"
     ]
    }
   ],
   "source": [
    "#4. What is the difference between a function and a function call?\n",
    "'''A function is a procedure to achieve a particular result while function call is using this function \n",
    "   to achive that task.'''\n",
    "def squares(a): #function\n",
    "    print('square of {} is {}'.format(a,a*a))\n",
    "squares(4) #function call"
   ]
  },
  {
   "cell_type": "code",
   "execution_count": 9,
   "metadata": {},
   "outputs": [
    {
     "name": "stdout",
     "output_type": "stream",
     "text": [
      "10\n",
      "20\n",
      "10\n"
     ]
    }
   ],
   "source": [
    "#5. How many global scopes are there in a Python program? How many local scopes?\n",
    "'''The variables which are declared ouside of a function are called global variable\n",
    "   These variables can be accessed in all functions of that module'''\n",
    "'''The variables which are delcared inside a function are called local variables\n",
    "   Local variables are available only for the function in which we declared it ie from outside of function we cannot\n",
    "   access'''\n",
    "a = 10 #global variable\n",
    "def f1():\n",
    "    print(a)\n",
    "def f2():\n",
    "    b = 20 #local variable\n",
    "    print(b)\n",
    "    print(a)\n",
    "f1()\n",
    "f2()"
   ]
  },
  {
   "cell_type": "code",
   "execution_count": 17,
   "metadata": {},
   "outputs": [
    {
     "name": "stdout",
     "output_type": "stream",
     "text": [
      "100\n"
     ]
    }
   ],
   "source": [
    "#6. What happens to variables in a local scope when the function call returns?\n",
    "'''when we try to use y on line 6(outside the function) pvm looks for global variable named y but does not find one\n",
    "   This results in the error.The variable y only exists while the function is being executed. \n",
    "   When the execution of the function terminates (returns),the local variables are destroyed.'''\n",
    "def square(x):\n",
    "    y = x * x\n",
    "    return y\n",
    "z = square(10)\n",
    "print(z)\n",
    "#print(y)...6th line"
   ]
  },
  {
   "cell_type": "code",
   "execution_count": 10,
   "metadata": {},
   "outputs": [
    {
     "name": "stdout",
     "output_type": "stream",
     "text": [
      "30\n"
     ]
    }
   ],
   "source": [
    "#7. What is the concept of a return value? Is it possible to have a return value in an expression?\n",
    "'''A function can take input values as parameters and executes logic and returns output to the caller with\n",
    "   return statement\n",
    "   A return statement is used to end the execution of the function call and returns the result(value of the expression\n",
    "   following the return keyword) to the caller.\n",
    "   No, it is not possible to have a return value in an expression and return value should be in form of return statement'''\n",
    "def add(x,y):\n",
    "    return x+y\n",
    "result = add(10,20)\n",
    "print(result)"
   ]
  },
  {
   "cell_type": "code",
   "execution_count": 12,
   "metadata": {},
   "outputs": [
    {
     "name": "stdout",
     "output_type": "stream",
     "text": [
      "hello\n",
      "hello\n",
      "None\n"
     ]
    }
   ],
   "source": [
    "#8. If a function does not have a return statement, what is the return value of a call to that function?\n",
    "'''if we are not writting any return statement then default return value is None'''\n",
    "def f1():\n",
    "    print('hello')\n",
    "f1()\n",
    "print(f1())"
   ]
  },
  {
   "cell_type": "code",
   "execution_count": 13,
   "metadata": {},
   "outputs": [
    {
     "name": "stdout",
     "output_type": "stream",
     "text": [
      "777\n",
      "777\n"
     ]
    }
   ],
   "source": [
    "#9. How do you make a function variable refer to the global variable?\n",
    "'''by using global keyword'''\n",
    "a = 10\n",
    "def f1():\n",
    "    global a\n",
    "    a = 777\n",
    "    print(a)\n",
    "def f2():\n",
    "    print(a)\n",
    "f1()\n",
    "f2()"
   ]
  },
  {
   "cell_type": "code",
   "execution_count": null,
   "metadata": {},
   "outputs": [],
   "source": [
    "#10. What is the data type of None?\n",
    "'''The data type of None is NoneType.None is a keyword in python which is used which is used to define a null value\n",
    "   or no value at all.'''"
   ]
  },
  {
   "cell_type": "code",
   "execution_count": null,
   "metadata": {},
   "outputs": [],
   "source": [
    "#What does the sentence import areallyourpetsnamederic do?\n",
    "'''The sentence says that the module named areallyourpetsnamederic is imported to the current program which is used to \n",
    "access the functionality of that module in the current program'''"
   ]
  },
  {
   "cell_type": "code",
   "execution_count": null,
   "metadata": {},
   "outputs": [],
   "source": [
    "#12. If you had a bacon() feature in a spam module, what would you call it after importing spam?\n",
    "# Ans. import spam\n",
    "#      spam.bacom() #accessing the functionality of spam module in our current program\n"
   ]
  },
  {
   "cell_type": "code",
   "execution_count": null,
   "metadata": {},
   "outputs": [],
   "source": [
    "#13. What can you do to save a programme from crashing if it encounters an error?\n",
    "'''To save a program from crashing if it encounters an error, we can use the concept of exception handling\n",
    "   An unwanted and unexpected event that disturbs normal flow of progrsm is called exception\n",
    "   The main objective of exception handling is graceful/normal termination of program\n",
    "   try:\n",
    "        Risky code\n",
    "   except:\n",
    "        Handling/alternative code'''"
   ]
  },
  {
   "cell_type": "code",
   "execution_count": null,
   "metadata": {},
   "outputs": [],
   "source": [
    "#14. What is the purpose of the try clause? What is the purpose of the except clause?\n",
    "'''The code which may raise exception is called risky code and we have to take risky code inside try block.In try block\n",
    "   all the statements are executed until an exception is encountered.\n",
    "   The corresponding handling code we have to take inside except block .The main purpose of except block is to handle\n",
    "   the exception that raised inside the try block'''"
   ]
  }
 ],
 "metadata": {
  "kernelspec": {
   "display_name": "Python 3",
   "language": "python",
   "name": "python3"
  },
  "language_info": {
   "codemirror_mode": {
    "name": "ipython",
    "version": 3
   },
   "file_extension": ".py",
   "mimetype": "text/x-python",
   "name": "python",
   "nbconvert_exporter": "python",
   "pygments_lexer": "ipython3",
   "version": "3.7.1"
  }
 },
 "nbformat": 4,
 "nbformat_minor": 2
}
