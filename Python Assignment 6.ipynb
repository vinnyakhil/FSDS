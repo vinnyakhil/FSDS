{
 "cells": [
  {
   "cell_type": "code",
   "execution_count": 4,
   "metadata": {},
   "outputs": [
    {
     "name": "stdout",
     "output_type": "stream",
     "text": [
      "Hello\r",
      "World!\n",
      "Hello Akhil\n",
      "How are you?\n",
      "Hello Akhil\tHow are you?\n",
      "How to get single quotes? 'Single quotes'\n",
      "How to get double quotes? \"Double quotes\" \n",
      "How to get back slash? \\Black slash\\ \n",
      "Example of Back Space !!\b\n",
      "S\n",
      "T\n"
     ]
    }
   ],
   "source": [
    "#1. What are escape characters, and how do you use them?\n",
    "#(Ans)\n",
    "# In string literals we can use escape charachters to associate a special meaning\n",
    "# \\r, \\n, \\t,\\', \\\\,\\\",\\b,\\ooo,\\xhh\n",
    "\n",
    "print(\"Hello\\rWorld!\")  #carriage return\n",
    "print(\"Hello Akhil\\nHow are you?\") #new line\n",
    "print(\"Hello Akhil\\tHow are you?\") #horizontal tab\n",
    "print(\"How to get single quotes? \\'Single quotes\\'\") #single quote\n",
    "print(\"How to get double quotes? \\\"Double quotes\\\" \") #double quote\n",
    "print(\"How to get back slash? \\\\Black slash\\\\ \") #backslash\n",
    "print(\"Example of Back Space !!\\b\") #back space\n",
    "print(\"\\123\") #Octal Representation\n",
    "print(\"\\x54\") #Hexadecimal representation"
   ]
  },
  {
   "cell_type": "code",
   "execution_count": null,
   "metadata": {},
   "outputs": [],
   "source": [
    "#2. What do the escape characters n and t stand for?\n",
    "\n",
    "#(Ans)New line - \"\\n\", Horizontal Tab - \"\\t\""
   ]
  },
  {
   "cell_type": "code",
   "execution_count": 5,
   "metadata": {},
   "outputs": [
    {
     "name": "stdout",
     "output_type": "stream",
     "text": [
      "It is the way to get back slash? \\Black slash\\ \n"
     ]
    }
   ],
   "source": [
    "#3. What is the way to include backslash characters in a string?\n",
    "\n",
    "#(Ans) Escape it with another \"\\\"\n",
    "\n",
    "print(\"It is the way to get back slash? \\\\Black slash\\\\ \")"
   ]
  },
  {
   "cell_type": "code",
   "execution_count": null,
   "metadata": {},
   "outputs": [],
   "source": [
    "#4. The string \"Howl's Moving Castle\" is a correct value. Why isn't the single quote character in the word \n",
    "# Howl's not escaped a problem?\n",
    "\n",
    "#(Ans) It is not a problem as the entire string is enclosed within a double quotes. Single quotes can be inserted with in\n",
    "#      with in the two double quotes."
   ]
  },
  {
   "cell_type": "code",
   "execution_count": 8,
   "metadata": {},
   "outputs": [
    {
     "name": "stdout",
     "output_type": "stream",
     "text": [
      "Hello Akhil\n",
      "How are you?\n",
      "I am fine\n"
     ]
    }
   ],
   "source": [
    "#5. How do you write a string of newlines if you don't want to use the n character?\n",
    "\n",
    "#(Ans) Can be written with the help of triple quotes\n",
    "\n",
    "print('''Hello Akhil\n",
    "How are you?\n",
    "I am fine''')"
   ]
  },
  {
   "cell_type": "code",
   "execution_count": null,
   "metadata": {},
   "outputs": [],
   "source": [
    "#6. What are the values of the given expressions?\n",
    "\n",
    "#(Ans)\n",
    "\n",
    "# ('Hello, world!'[1]).....> e\n",
    "\n",
    "# ('Hello, world!'[0:5]).....> Hello\n",
    "\n",
    "# ('Hello, world!'[:5])....> Hello\n",
    "\n",
    "# print('Hello, world!'[3:])....> lo, world!\n"
   ]
  },
  {
   "cell_type": "code",
   "execution_count": null,
   "metadata": {},
   "outputs": [],
   "source": [
    "#7. What are the values of the following expressions?\n",
    "\n",
    "#(Ans)\n",
    "\n",
    "# ('Hello'.upper()).....> HELLO\n",
    "\n",
    "# ('Hello'.upper().isupper())....> True \n",
    "\n",
    "# ('Hello'.upper().lower())......> hello\n",
    " "
   ]
  },
  {
   "cell_type": "code",
   "execution_count": 9,
   "metadata": {},
   "outputs": [
    {
     "name": "stdout",
     "output_type": "stream",
     "text": [
      "['Remember,', 'remember,', 'the', 'fifth', 'of', 'July.']\n",
      "There-can-only-one.\n"
     ]
    }
   ],
   "source": [
    "#8. What are the values of the following expressions?\n",
    "\n",
    "print('Remember, remember, the fifth of July.'.split())\n",
    "#(A) ['Remember,', 'remember,', 'the', 'fifth', 'of', 'July.']\n",
    "\n",
    "\n",
    "print('-'.join('There can only one.'.split()))\n",
    "#(A) There-can-only-one."
   ]
  },
  {
   "cell_type": "code",
   "execution_count": 10,
   "metadata": {},
   "outputs": [
    {
     "name": "stdout",
     "output_type": "stream",
     "text": [
      "Left justified                \n",
      "               Right justified\n",
      "  Centre justified  \n"
     ]
    }
   ],
   "source": [
    "#9. What are the methods for right-justifying, left-justifying, and centering a string?\n",
    "\n",
    "#(A)\n",
    "\n",
    "str= \"Left justified\"\n",
    "str1=\"Right justified\"\n",
    "str2=\"Centre justified\"\n",
    "\n",
    "print(str.ljust(30))\n",
    "print(str1.rjust(30))\n",
    "print(str2.center(20))"
   ]
  },
  {
   "cell_type": "code",
   "execution_count": 15,
   "metadata": {},
   "outputs": [
    {
     "name": "stdout",
     "output_type": "stream",
     "text": [
      "Using lstrip() and rstrip() functions: \n",
      " This contains whitespaces in the front and at the end.\n",
      "\n",
      "*************************\n",
      "\n",
      "Using strip() function to remove spaces from both sides:\n",
      " This contains whitespaces in the front and at the end.\n"
     ]
    }
   ],
   "source": [
    "#10. What is the best way to remove whitespace characters from the start or end?\n",
    "\n",
    "#(A)\n",
    "\n",
    "text=\" This contains whitespaces in the front and at the end.    \" \n",
    "print(\"Using lstrip() and rstrip() functions: \\n\",(text.lstrip()).rstrip())\n",
    "print()\n",
    "print(25*'*')\n",
    "print()\n",
    "print(\"Using strip() function to remove spaces from both sides:\\n\", text.strip(), end=\"\\n\")"
   ]
  },
  {
   "cell_type": "code",
   "execution_count": null,
   "metadata": {},
   "outputs": [],
   "source": []
  }
 ],
 "metadata": {
  "kernelspec": {
   "display_name": "Python 3",
   "language": "python",
   "name": "python3"
  },
  "language_info": {
   "codemirror_mode": {
    "name": "ipython",
    "version": 3
   },
   "file_extension": ".py",
   "mimetype": "text/x-python",
   "name": "python",
   "nbconvert_exporter": "python",
   "pygments_lexer": "ipython3",
   "version": "3.7.1"
  }
 },
 "nbformat": 4,
 "nbformat_minor": 2
}
