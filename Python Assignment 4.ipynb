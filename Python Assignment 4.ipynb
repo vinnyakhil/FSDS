{
 "cells": [
  {
   "cell_type": "code",
   "execution_count": null,
   "metadata": {},
   "outputs": [],
   "source": [
    "#1. What exactly is []?\n",
    "\n",
    "'''[] represents an empty list'''"
   ]
  },
  {
   "cell_type": "code",
   "execution_count": 1,
   "metadata": {},
   "outputs": [
    {
     "name": "stdout",
     "output_type": "stream",
     "text": [
      "[2, 4, 'hello', 6, 8, 10]\n"
     ]
    }
   ],
   "source": [
    "#2. In a list of values stored in a variable called spam, \n",
    "#how would you assign the value 'hello' as the third value? (Assume [2, 4, 6, 8, 10] are in spam.)\n",
    "\n",
    "spam = [2, 4, 6, 8, 10]\n",
    "spam.insert(2,'hello')\n",
    "print(spam)"
   ]
  },
  {
   "cell_type": "code",
   "execution_count": null,
   "metadata": {},
   "outputs": [],
   "source": [
    "#Let's pretend the spam includes the list ['a', 'b', 'c', 'd'] for the next three queries.\n",
    "#3. What is the value of spam[int(int('3' * 2) / 11)]?\n",
    "\n",
    "# Ans. spam = ['a', 'b', 'c', 'd']\n",
    "\n",
    "'''The expression returns int value 3 and the value of spam[3] is 'd' '''"
   ]
  },
  {
   "cell_type": "code",
   "execution_count": null,
   "metadata": {},
   "outputs": [],
   "source": [
    "#4. What is the value of spam[-1]?\n",
    "\n",
    "'''The value of spam[-1] is also 'd' '''"
   ]
  },
  {
   "cell_type": "code",
   "execution_count": null,
   "metadata": {},
   "outputs": [],
   "source": [
    "#5. What is the value of spam[:2]?\n",
    "\n",
    "'''The value of spam[:2] is ['a','b'] '''"
   ]
  },
  {
   "cell_type": "code",
   "execution_count": null,
   "metadata": {},
   "outputs": [],
   "source": [
    "#Let's pretend bacon has the list [3.14, 'cat,' 11, 'cat,' True] for the next three questions.\n",
    "#6. What is the value of bacon.index('cat')?\n",
    "# Ans. bacon = [3.14, 'cat,' 11, 'cat,' True] \n",
    "\n",
    "'''there is a problem in a given list and modifying that i am giving the answers '''\n",
    "\n",
    "# bacon = [3.14, 'cat', 11, 'cat', True] #modified list\n",
    "\n",
    "'''The value of of bacon.index('cat') is 1.This query always returns 1st element index in a list'''"
   ]
  },
  {
   "cell_type": "code",
   "execution_count": null,
   "metadata": {},
   "outputs": [],
   "source": [
    "#7. How does bacon.append(99) change the look of the list value in bacon?\n",
    "\n",
    "'''It will add the value 99 at the end of the list and the list will be modified as below after appending'''\n",
    "\n",
    "# bacon = [3.14, 'cat', 11, 'cat', True, 99]"
   ]
  },
  {
   "cell_type": "code",
   "execution_count": null,
   "metadata": {},
   "outputs": [],
   "source": [
    "#8. How does bacon.remove('cat') change the look of the list in bacon?\n",
    "\n",
    "#  bacon = [3.14, 'cat', 11, 'cat', True]\n",
    "\n",
    "'''The above query will remove the 'cat' element of very first occurance and the list will be modified as below after\n",
    "   remove operation'''\n",
    "\n",
    "# [3.14, 11, 'cat', True]"
   ]
  },
  {
   "cell_type": "code",
   "execution_count": 15,
   "metadata": {},
   "outputs": [
    {
     "name": "stdout",
     "output_type": "stream",
     "text": [
      "[1, 2, 3, 4, 5, 6]\n",
      "[1, 2, 3, 1, 2, 3, 1, 2, 3]\n"
     ]
    }
   ],
   "source": [
    "#9. What are the list concatenation and list replication operators?\n",
    "\n",
    "'''The operator for list concatenation is + and the operator for list replication is * '''\n",
    "a = [1,2,3]\n",
    "b = [4,5,6]\n",
    "c = a + b #list concatenation\n",
    "d = a * 3 #list replication\n",
    "print(c)\n",
    "print(d)"
   ]
  },
  {
   "cell_type": "code",
   "execution_count": 17,
   "metadata": {},
   "outputs": [
    {
     "name": "stdout",
     "output_type": "stream",
     "text": [
      "[1, 100, 2, 3, 4]\n"
     ]
    }
   ],
   "source": [
    "#10. What is difference between the list methods append() and insert()?\n",
    "''' append opearation inserts the element at the tail of the list while insert operation inserts the element at the\n",
    "    specified given index'''\n",
    "a = [1,2,3]\n",
    "a.append(4)\n",
    "a.insert(1,100)\n",
    "print(a)"
   ]
  },
  {
   "cell_type": "code",
   "execution_count": 21,
   "metadata": {},
   "outputs": [
    {
     "name": "stdout",
     "output_type": "stream",
     "text": [
      "[1, 2, 'akhil', 'surya', 25, 3]\n"
     ]
    }
   ],
   "source": [
    "#11. What are the two methods for removing items from a list?\n",
    "'''pop and remove are the two methods for removing the items from a list\n",
    "pop : Deletes last element from list by default\n",
    "remove: removes particular element of very 1st occurance'''\n",
    "l = [1,2,3,'akhil','surya',25,3,69]\n",
    "l.pop()\n",
    "l.remove(3)\n",
    "print(l)"
   ]
  },
  {
   "cell_type": "code",
   "execution_count": 87,
   "metadata": {},
   "outputs": [
    {
     "name": "stdout",
     "output_type": "stream",
     "text": [
      "140735729939408 140735729939408\n",
      "2650917360840 2650917360840\n"
     ]
    }
   ],
   "source": [
    "#12. Describe how list values and string values are identical.\n",
    "'''Changeable objects such as lists, strings.For example we will appropriate to the list \"a\" \n",
    "some value and then we will equate the new variable \"b\" to \"a\", \n",
    "having output references to \"a\" and \"b\" we will see that they are identical:'''\n",
    "a = 5\n",
    "b = a\n",
    "print(id(a),id(b))\n",
    "s = 'akhil'\n",
    "s1 = s\n",
    "print(id(s),id(s1))"
   ]
  },
  {
   "cell_type": "code",
   "execution_count": null,
   "metadata": {},
   "outputs": [],
   "source": [
    "#13. What's the difference between tuples and lists?\n",
    "\n",
    "'''1. If we want to represent a group of values as a single entity where insertion order required to preserve and dupicates\n",
    "   are allowed then we should go for list data type.An ordered, mutable, heterogeneous collection of elements is nothing\n",
    "   but list, where duplicates also allowed\n",
    "   2. list objects cannot be used as keys for dictionaries because keys should be hashable and immutable '''\n",
    "\n",
    "'''1. tuple data type is exactly same as list data type except that it is immutable ie. we cannot change values. Tuple\n",
    "   elements can be represented with in paranthesis\n",
    "   2. tuple objects can be used as keys for dictionaries because keys should be hashable and immutable'''\n"
   ]
  },
  {
   "cell_type": "code",
   "execution_count": 22,
   "metadata": {},
   "outputs": [
    {
     "name": "stdout",
     "output_type": "stream",
     "text": [
      "(42,)\n"
     ]
    }
   ],
   "source": [
    "#14. How do you type a tuple value that only contains the integer 42?\n",
    "\n",
    "t = (42,)\n",
    "print(t)\n",
    "\n",
    "'''The tuple which contains only one value is called single valued tuple, compulsory the value should ends with comma, \n",
    "   otherwise it is not treated as tuple'''"
   ]
  },
  {
   "cell_type": "code",
   "execution_count": 85,
   "metadata": {},
   "outputs": [
    {
     "name": "stdout",
     "output_type": "stream",
     "text": [
      "[1, 2, 25, 36, 56]\n"
     ]
    }
   ],
   "source": [
    "#15. How do you get a list value's tuple form? \n",
    "\n",
    "#list1 = [0, 1, 2]\n",
    "#print(tuple(list1))\n",
    "\n",
    "# How do you get a tuple value's list form?\n",
    "\n",
    "t1 = (1,2,25,36,56)\n",
    "l=[]\n",
    "for ele in t1:\n",
    "    l.append(ele)\n",
    "print(l)"
   ]
  },
  {
   "cell_type": "code",
   "execution_count": 84,
   "metadata": {},
   "outputs": [],
   "source": [
    "#16. Variables that \"contain\" list values are not necessarily lists themselves. Instead, what do they contain?\n",
    "\n",
    "'''since list is heterogenous collection of elements..they can contain strings, numbers, boolean values or tuples also'''\n",
    "\n"
   ]
  },
  {
   "cell_type": "code",
   "execution_count": 78,
   "metadata": {},
   "outputs": [],
   "source": [
    "#17. How do you distinguish between copy.copy() and copy.deepcopy()?\n",
    "\n",
    "'''copy.copy() means a shallow copy and copy.deepcopy() is a deep copy which are available in copy module\n",
    "   In normal list shallow copy and deep copy work as same but in nested list they both are different\n",
    "   Normal list: change of values in one list are not reflected in both list(same for both type of copy)\n",
    "   Nested list:\n",
    "     shallow copy: change of values in one list are updated in both list\n",
    "     Deep copy   : change of values in one list are not updated in both list'''\n"
   ]
  }
 ],
 "metadata": {
  "kernelspec": {
   "display_name": "Python 3",
   "language": "python",
   "name": "python3"
  },
  "language_info": {
   "codemirror_mode": {
    "name": "ipython",
    "version": 3
   },
   "file_extension": ".py",
   "mimetype": "text/x-python",
   "name": "python",
   "nbconvert_exporter": "python",
   "pygments_lexer": "ipython3",
   "version": "3.7.1"
  }
 },
 "nbformat": 4,
 "nbformat_minor": 2
}
